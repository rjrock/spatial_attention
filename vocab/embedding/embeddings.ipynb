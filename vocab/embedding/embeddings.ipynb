{
 "cells": [
  {
   "cell_type": "code",
   "execution_count": 1,
   "metadata": {},
   "outputs": [],
   "source": [
    "import numpy as np\n",
    "\n",
    "from gensim.models.keyedvectors import KeyedVectors\n",
    "from gensim.scripts.glove2word2vec import glove2word2vec\n",
    "from pathlib import Path\n",
    "\n",
    "from utils import storage"
   ]
  },
  {
   "cell_type": "code",
   "execution_count": 2,
   "metadata": {},
   "outputs": [],
   "source": [
    "glove_txt_path = 'glove.42B.300d.txt'\n",
    "glove_model_path = 'glove300.model'\n",
    "glove_vocab_path = 'glove300_vocab.kv'"
   ]
  },
  {
   "cell_type": "code",
   "execution_count": 3,
   "metadata": {},
   "outputs": [],
   "source": [
    "vocab = storage.load_vocab()\n",
    "glove2word2vec(glove_input_file=glove_txt_path,\n",
    "               word2vec_output_file=glove_model_path)\n",
    "glove_vocab = KeyedVectors(vector_size=300)"
   ]
  },
  {
   "cell_type": "code",
   "execution_count": 4,
   "metadata": {},
   "outputs": [],
   "source": [
    "glove_model = KeyedVectors.load_word2vec_format(glove_model_path,\n",
    "    binary=False)"
   ]
  },
  {
   "cell_type": "code",
   "execution_count": 5,
   "metadata": {},
   "outputs": [
    {
     "name": "stderr",
     "output_type": "stream",
     "text": [
      "<ipython-input-5-9d00dd2ee781>:1: DeprecationWarning: Call to deprecated `wv` (Attribute will be removed in 4.0.0, use self instead).\n",
      "  vectors = glove_model.wv\n"
     ]
    }
   ],
   "source": [
    "vectors = glove_model.wv\n",
    "count = 0\n",
    "total = len(vocab)\n",
    "for token in vocab.token2idx:\n",
    "    if token in vectors:\n",
    "        glove_vocab[token] = vectors[token]\n",
    "        count += 1\n",
    "glove_vocab.save(glove_vocab_path)"
   ]
  },
  {
   "cell_type": "code",
   "execution_count": 6,
   "metadata": {},
   "outputs": [
    {
     "name": "stdout",
     "output_type": "stream",
     "text": [
      "count = 9917\n",
      "total = 9948\n"
     ]
    }
   ],
   "source": [
    "print(f'count = {count}')\n",
    "print(f'total = {total}')"
   ]
  },
  {
   "cell_type": "code",
   "execution_count": 7,
   "metadata": {},
   "outputs": [],
   "source": [
    "non_matched = {}\n",
    "for token in vocab.token2idx:\n",
    "    if token not in glove_vocab.index2word:\n",
    "        non_matched[token] = True"
   ]
  },
  {
   "cell_type": "code",
   "execution_count": 8,
   "metadata": {
    "scrolled": true
   },
   "outputs": [
    {
     "name": "stdout",
     "output_type": "stream",
     "text": [
      "<pad>\n",
      "<start>\n",
      "<end>\n",
      "..\n",
      "surboard\n",
      "skiies\n",
      "skatebaord\n",
      "sittingon\n",
      "deckered\n",
      "'do\n",
      "skatboard\n",
      "girafee\n",
      "stnading\n",
      "hyrdrant\n",
      "hyrdant\n",
      "giraffees\n",
      "walk/do\n",
      "firehydrant\n",
      "dyrgas\n",
      "courch\n",
      "t.v.v\n",
      "frizbe\n",
      "firsbee\n",
      "fribee\n",
      "tasble\n",
      "partially-eaten\n",
      "parasailer\n",
      "surfboarder\n",
      "surfboarders\n",
      "para-sail\n",
      "para-surfing\n"
     ]
    }
   ],
   "source": [
    "print('\\n'.join(list(non_matched.keys())))"
   ]
  },
  {
   "cell_type": "code",
   "execution_count": 9,
   "metadata": {},
   "outputs": [],
   "source": [
    "# Best way to deal with nonmatched words?\n",
    "for token in list(non_matched.keys()):\n",
    "    glove_vocab[token] = 2 * (np.random.random(size=300) - 0.5)"
   ]
  },
  {
   "cell_type": "code",
   "execution_count": 10,
   "metadata": {},
   "outputs": [],
   "source": [
    "glove_vocab.save(glove_vocab_path)"
   ]
  }
 ],
 "metadata": {
  "kernelspec": {
   "display_name": "Python 3",
   "language": "python",
   "name": "python3"
  },
  "language_info": {
   "codemirror_mode": {
    "name": "ipython",
    "version": 3
   },
   "file_extension": ".py",
   "mimetype": "text/x-python",
   "name": "python",
   "nbconvert_exporter": "python",
   "pygments_lexer": "ipython3",
   "version": "3.8.3"
  }
 },
 "nbformat": 4,
 "nbformat_minor": 4
}
